{
 "cells": [
  {
   "cell_type": "code",
   "execution_count": 1,
   "metadata": {},
   "outputs": [],
   "source": [
    "import pandas as pd\n",
    "import numpy as np\n",
    "from rdkit import Chem, DataStructs\n",
    "from rdkit.Chem import AllChem\n",
    "from rdkit.ML.Descriptors import MoleculeDescriptors\n",
    "from rdkit.Chem import Descriptors\n",
    "from rdkit.Chem.EState import Fingerprinter\n",
    "from rdkit.Chem import PandasTools\n",
    "from sklearn.ensemble import RandomForestClassifier\n",
    "from sklearn.utils import shuffle\n",
    "from sklearn import metrics\n",
    "from sklearn import model_selection\n",
    "from sklearn.metrics import roc_curve, auc\n",
    "import matplotlib.pyplot as plt"
   ]
  },
  {
   "cell_type": "code",
   "execution_count": 2,
   "metadata": {},
   "outputs": [],
   "source": [
    "def get_fps(mol):\n",
    "    # this calculates all RDKit descriptors (clogP, PSA, etc etc)\n",
    "    calc=MoleculeDescriptors.MolecularDescriptorCalculator([x[0] for x in Descriptors._descList])\n",
    "    ds = np.asarray(calc.CalcDescriptors(mol))\n",
    "    \n",
    "    # EState fingerprints\n",
    "    arr=Fingerprinter.FingerprintMol(mol)[0]\n",
    "    \n",
    "    # Morgan fingerprints\n",
    "    #fps=AllChem.GetMorganFingerprintAsBitVect(mol,3,nBits=1024)\n",
    "    #arr=np.zeros((1,))\n",
    "    #DataStructs.ConvertToNumpyArray(fps, arr)\n",
    "    \n",
    "    return np.append(arr,ds)"
   ]
  },
  {
   "cell_type": "code",
   "execution_count": 3,
   "metadata": {},
   "outputs": [],
   "source": [
    "# load data from CSV. Keep only smiles, compound name and pIC50 columns\n",
    "# the data set is here: https://github.com/deepchem/deepchem/blob/master/datasets/desc_canvas_aug30.csv\n",
    "df=pd.read_csv('desc_canvas_aug30.csv',usecols=[0,1,4])"
   ]
  },
  {
   "cell_type": "code",
   "execution_count": 4,
   "metadata": {},
   "outputs": [],
   "source": [
    "# randomly shuffle the data\n",
    "df = shuffle(df)"
   ]
  },
  {
   "cell_type": "code",
   "execution_count": 5,
   "metadata": {},
   "outputs": [
    {
     "data": {
      "text/html": [
       "<div>\n",
       "<style scoped>\n",
       "    .dataframe tbody tr th:only-of-type {\n",
       "        vertical-align: middle;\n",
       "    }\n",
       "\n",
       "    .dataframe tbody tr th {\n",
       "        vertical-align: top;\n",
       "    }\n",
       "\n",
       "    .dataframe thead th {\n",
       "        text-align: right;\n",
       "    }\n",
       "</style>\n",
       "<table border=\"1\" class=\"dataframe\">\n",
       "  <thead>\n",
       "    <tr style=\"text-align: right;\">\n",
       "      <th></th>\n",
       "      <th>mol</th>\n",
       "      <th>CID</th>\n",
       "      <th>pIC50</th>\n",
       "    </tr>\n",
       "  </thead>\n",
       "  <tbody>\n",
       "    <tr>\n",
       "      <th>956</th>\n",
       "      <td>Fc1cc(cc(F)c1)CC(NC(=O)C)C(O)C[NH2+]C1(CC1)c1cc(ccc1)CC(C)(C)C</td>\n",
       "      <td>BACE_982</td>\n",
       "      <td>6.467246</td>\n",
       "    </tr>\n",
       "    <tr>\n",
       "      <th>257</th>\n",
       "      <td>Fc1cc(cc(F)c1)CC(NC(=O)C(N1CCC(NC(=O)C)(C(CC)C)C1=O)CCc1ccccc1)C(O)C1[NH2+]CC(OCc2cccnc2)C1</td>\n",
       "      <td>BACE_283</td>\n",
       "      <td>8.853872</td>\n",
       "    </tr>\n",
       "    <tr>\n",
       "      <th>552</th>\n",
       "      <td>Fc1ncccc1-c1cc(ccc1)C1(N=C(N2C1=NOCC2)N)c1ccc(OC(F)(F)F)cc1</td>\n",
       "      <td>BACE_578</td>\n",
       "      <td>7.522879</td>\n",
       "    </tr>\n",
       "    <tr>\n",
       "      <th>1142</th>\n",
       "      <td>FC(F)(F)Oc1ccc(cc1)C1([NH+]=C(N2C1=NCCC2)N)c1cc(ccc1)CCC</td>\n",
       "      <td>BACE_1168</td>\n",
       "      <td>5.844664</td>\n",
       "    </tr>\n",
       "    <tr>\n",
       "      <th>998</th>\n",
       "      <td>Clc1cc2CC(N=C(NC(Cc3ccccc3)C=3NC(=O)C(=CN=3)C#N)c2cc1)(C)C</td>\n",
       "      <td>BACE_1024</td>\n",
       "      <td>6.327902</td>\n",
       "    </tr>\n",
       "  </tbody>\n",
       "</table>\n",
       "</div>"
      ],
      "text/plain": [
       "                                                                                              mol        CID     pIC50\n",
       "956                                Fc1cc(cc(F)c1)CC(NC(=O)C)C(O)C[NH2+]C1(CC1)c1cc(ccc1)CC(C)(C)C   BACE_982  6.467246\n",
       "257   Fc1cc(cc(F)c1)CC(NC(=O)C(N1CCC(NC(=O)C)(C(CC)C)C1=O)CCc1ccccc1)C(O)C1[NH2+]CC(OCc2cccnc2)C1   BACE_283  8.853872\n",
       "552                                   Fc1ncccc1-c1cc(ccc1)C1(N=C(N2C1=NOCC2)N)c1ccc(OC(F)(F)F)cc1   BACE_578  7.522879\n",
       "1142                                     FC(F)(F)Oc1ccc(cc1)C1([NH+]=C(N2C1=NCCC2)N)c1cc(ccc1)CCC  BACE_1168  5.844664\n",
       "998                                    Clc1cc2CC(N=C(NC(Cc3ccccc3)C=3NC(=O)C(=CN=3)C#N)c2cc1)(C)C  BACE_1024  6.327902"
      ]
     },
     "execution_count": 5,
     "metadata": {},
     "output_type": "execute_result"
    }
   ],
   "source": [
    "df.head()"
   ]
  },
  {
   "cell_type": "code",
   "execution_count": null,
   "metadata": {},
   "outputs": [],
   "source": [
    "# add RDKit molecule column to the dataframe\n",
    "PandasTools.AddMoleculeColumnToFrame(df,'mol','Molecule')"
   ]
  },
  {
   "cell_type": "code",
   "execution_count": null,
   "metadata": {},
   "outputs": [],
   "source": [
    "# calculate molecular fingerprints and descriptors and add to the dataframe\n",
    "df['Descriptors']=df['Molecule'].apply(get_fps)"
   ]
  },
  {
   "cell_type": "code",
   "execution_count": null,
   "metadata": {},
   "outputs": [],
   "source": [
    "# tag molecules with pIC50>6 as active (Active = 1)\n",
    "df['Active']=np.where(df['pIC50']>6, 1, 0)"
   ]
  },
  {
   "cell_type": "code",
   "execution_count": null,
   "metadata": {},
   "outputs": [],
   "source": [
    "df.head()"
   ]
  },
  {
   "cell_type": "code",
   "execution_count": null,
   "metadata": {},
   "outputs": [],
   "source": [
    "# convert to numpy arrays\n",
    "X = np.array(list(df['Descriptors']))\n",
    "y = df['Active'].values\n",
    " \n",
    "# divide into train and test set\n",
    "X_train, X_test, y_train, y_test = model_selection.train_test_split(X, y, test_size=0.25)"
   ]
  },
  {
   "cell_type": "code",
   "execution_count": null,
   "metadata": {},
   "outputs": [],
   "source": [
    "# create a random forest model and fit the data\n",
    "rf = RandomForestClassifier(max_features='auto')\n",
    "rf.fit(X_train, y_train)"
   ]
  },
  {
   "cell_type": "code",
   "execution_count": null,
   "metadata": {},
   "outputs": [],
   "source": [
    "# make predictions on the test set\n",
    "y_pred = rf.predict(X_test)"
   ]
  },
  {
   "cell_type": "code",
   "execution_count": null,
   "metadata": {},
   "outputs": [],
   "source": [
    "# get the ROC statistics\n",
    "fpr, tpr, thresholds = metrics.roc_curve(y_test, y_pred)\n",
    "roc_auc = auc(fpr, tpr)"
   ]
  },
  {
   "cell_type": "code",
   "execution_count": null,
   "metadata": {},
   "outputs": [],
   "source": [
    "plt.title('Receiver Operating Characteristic')\n",
    "plt.plot(fpr, tpr, 'b',\n",
    "label='AUC = %0.2f'% roc_auc)\n",
    "plt.legend(loc='lower right')\n",
    "plt.plot([0,1],[0,1],'r--')\n",
    "plt.xlim([-0.1,1.2])\n",
    "plt.ylim([-0.1,1.2])\n",
    "plt.ylabel('True Positive Rate')\n",
    "plt.xlabel('False Positive Rate')\n",
    "plt.show()"
   ]
  },
  {
   "cell_type": "code",
   "execution_count": null,
   "metadata": {},
   "outputs": [],
   "source": []
  }
 ],
 "metadata": {
  "kernelspec": {
   "display_name": "Python [conda env:mdtraj]",
   "language": "python",
   "name": "conda-env-mdtraj-py"
  },
  "language_info": {
   "codemirror_mode": {
    "name": "ipython",
    "version": 2
   },
   "file_extension": ".py",
   "mimetype": "text/x-python",
   "name": "python",
   "nbconvert_exporter": "python",
   "pygments_lexer": "ipython2",
   "version": "2.7.14"
  }
 },
 "nbformat": 4,
 "nbformat_minor": 2
}
